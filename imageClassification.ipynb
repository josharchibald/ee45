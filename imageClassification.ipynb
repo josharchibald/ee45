{
  "cells": [
    {
      "cell_type": "code",
      "execution_count": 1,
      "metadata": {
        "id": "jE8GQTuPpt5y"
      },
      "outputs": [],
      "source": [
        "import tensorflow as tf\n",
        "import pandas as pd\n",
        "import numpy as np\n",
        "import os\n",
        "from tensorflow import keras\n",
        "import random\n",
        "import cv2\n",
        "import math\n",
        "from PIL import Image\n",
        "import seaborn as sns\n",
        "import csv\n",
        "import json\n",
        "from tqdm import tqdm\n",
        "\n",
        "from sklearn.metrics import confusion_matrix\n",
        "from sklearn.preprocessing import LabelBinarizer\n",
        "from sklearn.model_selection import train_test_split\n",
        "\n",
        "import matplotlib.pyplot as plt\n",
        "\n",
        "from keras.models import Sequential\n",
        "from keras.layers import Conv2D, MaxPooling2D\n",
        "from keras.layers import Dense, Flatten\n",
        "from tensorflow.python.keras.saving.hdf5_format import save_attributes_to_hdf5_group\n",
        "\n",
        "import joblib"
      ]
    },
    {
      "cell_type": "code",
      "execution_count": 2,
      "metadata": {
        "id": "b9yg_Gf8pt5z"
      },
      "outputs": [],
      "source": [
        "model = Sequential()\n",
        "model.add(Conv2D(32, (4, 4), padding=\"same\", activation='relu', input_shape=(16, 16, 1)))\n",
        "model.add(MaxPooling2D((4, 4)))\n",
        "model.add(Conv2D(64, (2, 2), activation='relu'))\n",
        "model.add(MaxPooling2D((2, 2)))\n",
        "model.add(Flatten())\n",
        "model.add(Dense(128, activation='relu'))\n",
        "model.add(Dense(16, activation='softmax'))\n",
        "\n",
        "model.compile(optimizer='Adam',loss='categorical_crossentropy',metrics=['accuracy'])"
      ]
    },
    {
      "cell_type": "code",
      "execution_count": 3,
      "metadata": {
        "colab": {
          "base_uri": "https://localhost:8080/"
        },
        "id": "H9QXm9Sypt50",
        "outputId": "f013c8cf-4f72-4a9c-9264-917e32d0bca1"
      },
      "outputs": [],
      "source": [
        "label_dict = {'fivefingerR': 0, 'fourfingerR': 1, 'threefingerR': 2, 'twofingerR': 3, 'onefingerR': 4,\n",
        "              'fistR': 5, 'cowabungaR': 6, 'spidermanR': 7, 'okR': 8, 'cR': 9, 'thumbR': 10,\n",
        "              'lR': 11, 'oR': 12, 'rockonR': 13, 'palmR': 14, 'sidehandR': 15}\n",
        "\n",
        "index_dict = {value : key for key, value in label_dict.items()}\n",
        "\n",
        "with open('data_short.json', 'r') as file:\n",
        "    raw_data = json.load(file)\n",
        "\n",
        "labels = []\n",
        "data = []\n",
        "\n",
        "for label, arrays in raw_data.items():\n",
        "    for array in arrays:\n",
        "        def_label = np.zeros((16))\n",
        "        def_label[label_dict[label]] = 1\n",
        "        labels.append(def_label)\n",
        "        normalizedData = np.array((array-np.min(array))/(np.max(array)-np.min(array)))\n",
        "        data.append(normalizedData.reshape(16, 16, 1))\n",
        "\n",
        "labels = np.array(labels)\n",
        "data = np.array(data)\n",
        "\n",
        "(xtrain,xtest,ytrain,ytest)=train_test_split(data,labels,test_size=0.4)\n",
        "# print(xtrain.shape, xtest.shape)\n"
      ]
    },
    {
      "cell_type": "code",
      "execution_count": 4,
      "metadata": {
        "colab": {
          "base_uri": "https://localhost:8080/"
        },
        "id": "9SmhplR50R22",
        "outputId": "9d098980-6023-4405-e963-242b20f06443"
      },
      "outputs": [
        {
          "name": "stdout",
          "output_type": "stream",
          "text": [
            "Epoch 1/20\n",
            "30/30 - 0s - loss: 2.7643 - accuracy: 0.0891 - val_loss: 2.7515 - val_accuracy: 0.0578 - 461ms/epoch - 15ms/step\n",
            "Epoch 2/20\n",
            "30/30 - 0s - loss: 2.7195 - accuracy: 0.1724 - val_loss: 2.6790 - val_accuracy: 0.2414 - 194ms/epoch - 6ms/step\n",
            "Epoch 3/20\n",
            "30/30 - 0s - loss: 2.5615 - accuracy: 0.2766 - val_loss: 2.4017 - val_accuracy: 0.2711 - 149ms/epoch - 5ms/step\n",
            "Epoch 4/20\n",
            "30/30 - 0s - loss: 2.1570 - accuracy: 0.4161 - val_loss: 1.9453 - val_accuracy: 0.4164 - 182ms/epoch - 6ms/step\n",
            "Epoch 5/20\n",
            "30/30 - 0s - loss: 1.6847 - accuracy: 0.5693 - val_loss: 1.4817 - val_accuracy: 0.6438 - 159ms/epoch - 5ms/step\n",
            "Epoch 6/20\n",
            "30/30 - 0s - loss: 1.3350 - accuracy: 0.6599 - val_loss: 1.2014 - val_accuracy: 0.6984 - 141ms/epoch - 5ms/step\n",
            "Epoch 7/20\n",
            "30/30 - 0s - loss: 1.0861 - accuracy: 0.7479 - val_loss: 0.9542 - val_accuracy: 0.8039 - 139ms/epoch - 5ms/step\n",
            "Epoch 8/20\n",
            "30/30 - 0s - loss: 0.8887 - accuracy: 0.7948 - val_loss: 0.7770 - val_accuracy: 0.8211 - 139ms/epoch - 5ms/step\n",
            "Epoch 9/20\n",
            "30/30 - 0s - loss: 0.7442 - accuracy: 0.8354 - val_loss: 0.6526 - val_accuracy: 0.8414 - 193ms/epoch - 6ms/step\n",
            "Epoch 10/20\n",
            "30/30 - 0s - loss: 0.6381 - accuracy: 0.8479 - val_loss: 0.5576 - val_accuracy: 0.8687 - 149ms/epoch - 5ms/step\n",
            "Epoch 11/20\n",
            "30/30 - 0s - loss: 0.5781 - accuracy: 0.8542 - val_loss: 0.6112 - val_accuracy: 0.8281 - 141ms/epoch - 5ms/step\n",
            "Epoch 12/20\n",
            "30/30 - 0s - loss: 0.5059 - accuracy: 0.8714 - val_loss: 0.4430 - val_accuracy: 0.8930 - 173ms/epoch - 6ms/step\n",
            "Epoch 13/20\n",
            "30/30 - 0s - loss: 0.4287 - accuracy: 0.8880 - val_loss: 0.3862 - val_accuracy: 0.9070 - 152ms/epoch - 5ms/step\n",
            "Epoch 14/20\n",
            "30/30 - 0s - loss: 0.3945 - accuracy: 0.8984 - val_loss: 0.3652 - val_accuracy: 0.9078 - 136ms/epoch - 5ms/step\n",
            "Epoch 15/20\n",
            "30/30 - 0s - loss: 0.3489 - accuracy: 0.9115 - val_loss: 0.3194 - val_accuracy: 0.9203 - 138ms/epoch - 5ms/step\n",
            "Epoch 16/20\n",
            "30/30 - 0s - loss: 0.3206 - accuracy: 0.9151 - val_loss: 0.2990 - val_accuracy: 0.9258 - 152ms/epoch - 5ms/step\n",
            "Epoch 17/20\n",
            "30/30 - 0s - loss: 0.2936 - accuracy: 0.9182 - val_loss: 0.2627 - val_accuracy: 0.9273 - 137ms/epoch - 5ms/step\n",
            "Epoch 18/20\n",
            "30/30 - 0s - loss: 0.2732 - accuracy: 0.9286 - val_loss: 0.2352 - val_accuracy: 0.9414 - 153ms/epoch - 5ms/step\n",
            "Epoch 19/20\n",
            "30/30 - 0s - loss: 0.2346 - accuracy: 0.9422 - val_loss: 0.2178 - val_accuracy: 0.9383 - 188ms/epoch - 6ms/step\n",
            "Epoch 20/20\n",
            "30/30 - 0s - loss: 0.2184 - accuracy: 0.9422 - val_loss: 0.1931 - val_accuracy: 0.9500 - 133ms/epoch - 4ms/step\n"
          ]
        }
      ],
      "source": [
        "model_t = model.fit(xtrain, ytrain, epochs=20, batch_size = 64, verbose=2, validation_data=(xtest, ytest))"
      ]
    },
    {
      "cell_type": "code",
      "execution_count": 6,
      "metadata": {
        "id": "mnQT2WT9pt50",
        "outputId": "a8bb6d80-0d6a-4bf3-b442-4cbdce3f7550"
      },
      "outputs": [
        {
          "name": "stderr",
          "output_type": "stream",
          "text": [
            "  0%|          | 0/16 [00:00<?, ?it/s]"
          ]
        },
        {
          "name": "stdout",
          "output_type": "stream",
          "text": [
            "fivefingerR 1386\n"
          ]
        },
        {
          "name": "stderr",
          "output_type": "stream",
          "text": [
            "100%|██████████| 1386/1386 [00:38<00:00, 35.74it/s]\n",
            "  6%|▋         | 1/16 [00:38<09:41, 38.78s/it]"
          ]
        },
        {
          "name": "stdout",
          "output_type": "stream",
          "text": [
            "fourfingerR 1144\n"
          ]
        },
        {
          "name": "stderr",
          "output_type": "stream",
          "text": [
            "100%|██████████| 1144/1144 [00:30<00:00, 36.96it/s]\n",
            " 12%|█▎        | 2/16 [01:09<07:58, 34.18s/it]"
          ]
        },
        {
          "name": "stdout",
          "output_type": "stream",
          "text": [
            "threefingerR 1234\n"
          ]
        },
        {
          "name": "stderr",
          "output_type": "stream",
          "text": [
            "100%|██████████| 1234/1234 [00:34<00:00, 35.32it/s]\n",
            " 19%|█▉        | 3/16 [01:44<07:28, 34.53s/it]"
          ]
        },
        {
          "name": "stdout",
          "output_type": "stream",
          "text": [
            "twofingerR 1372\n"
          ]
        },
        {
          "name": "stderr",
          "output_type": "stream",
          "text": [
            "100%|██████████| 1372/1372 [00:36<00:00, 37.56it/s]\n",
            " 25%|██▌       | 4/16 [02:21<07:03, 35.32s/it]"
          ]
        },
        {
          "name": "stdout",
          "output_type": "stream",
          "text": [
            "onefingerR 1359\n"
          ]
        },
        {
          "name": "stderr",
          "output_type": "stream",
          "text": [
            "100%|██████████| 1359/1359 [00:38<00:00, 35.69it/s]\n",
            " 31%|███▏      | 5/16 [02:59<06:39, 36.32s/it]"
          ]
        },
        {
          "name": "stdout",
          "output_type": "stream",
          "text": [
            "fistR 1937\n"
          ]
        },
        {
          "name": "stderr",
          "output_type": "stream",
          "text": [
            "100%|██████████| 1937/1937 [00:56<00:00, 34.09it/s]\n",
            " 38%|███▊      | 6/16 [03:56<07:12, 43.29s/it]"
          ]
        },
        {
          "name": "stdout",
          "output_type": "stream",
          "text": [
            "cowabungaR 1269\n"
          ]
        },
        {
          "name": "stderr",
          "output_type": "stream",
          "text": [
            "100%|██████████| 1269/1269 [00:37<00:00, 34.13it/s]\n",
            " 44%|████▍     | 7/16 [04:33<06:11, 41.29s/it]"
          ]
        },
        {
          "name": "stdout",
          "output_type": "stream",
          "text": [
            "spidermanR 1652\n"
          ]
        },
        {
          "name": "stderr",
          "output_type": "stream",
          "text": [
            "100%|██████████| 1652/1652 [00:50<00:00, 32.73it/s]\n",
            " 50%|█████     | 8/16 [05:23<05:53, 44.22s/it]"
          ]
        },
        {
          "name": "stdout",
          "output_type": "stream",
          "text": [
            "okR 1393\n"
          ]
        },
        {
          "name": "stderr",
          "output_type": "stream",
          "text": [
            "100%|██████████| 1393/1393 [00:44<00:00, 31.30it/s]\n",
            " 56%|█████▋    | 9/16 [06:08<05:10, 44.30s/it]"
          ]
        },
        {
          "name": "stdout",
          "output_type": "stream",
          "text": [
            "cR 1364\n"
          ]
        },
        {
          "name": "stderr",
          "output_type": "stream",
          "text": [
            "100%|██████████| 1364/1364 [00:41<00:00, 32.96it/s]\n",
            " 62%|██████▎   | 10/16 [06:49<04:20, 43.40s/it]"
          ]
        },
        {
          "name": "stdout",
          "output_type": "stream",
          "text": [
            "thumbR 1381\n"
          ]
        },
        {
          "name": "stderr",
          "output_type": "stream",
          "text": [
            "100%|██████████| 1381/1381 [00:43<00:00, 31.41it/s]\n",
            " 69%|██████▉   | 11/16 [07:33<03:37, 43.58s/it]"
          ]
        },
        {
          "name": "stdout",
          "output_type": "stream",
          "text": [
            "lR 1332\n"
          ]
        },
        {
          "name": "stderr",
          "output_type": "stream",
          "text": [
            "100%|██████████| 1332/1332 [00:39<00:00, 34.07it/s]\n",
            " 75%|███████▌  | 12/16 [08:12<02:48, 42.22s/it]"
          ]
        },
        {
          "name": "stdout",
          "output_type": "stream",
          "text": [
            "oR 1275\n"
          ]
        },
        {
          "name": "stderr",
          "output_type": "stream",
          "text": [
            "100%|██████████| 1275/1275 [00:38<00:00, 33.39it/s]\n",
            " 81%|████████▏ | 13/16 [08:50<02:02, 40.99s/it]"
          ]
        },
        {
          "name": "stdout",
          "output_type": "stream",
          "text": [
            "rockonR 1277\n"
          ]
        },
        {
          "name": "stderr",
          "output_type": "stream",
          "text": [
            "100%|██████████| 1277/1277 [00:38<00:00, 33.21it/s]\n",
            " 88%|████████▊ | 14/16 [09:29<01:20, 40.23s/it]"
          ]
        },
        {
          "name": "stdout",
          "output_type": "stream",
          "text": [
            "palmR 1221\n"
          ]
        },
        {
          "name": "stderr",
          "output_type": "stream",
          "text": [
            "100%|██████████| 1221/1221 [00:36<00:00, 33.92it/s]\n",
            " 94%|█████████▍| 15/16 [10:05<00:38, 38.95s/it]"
          ]
        },
        {
          "name": "stdout",
          "output_type": "stream",
          "text": [
            "sidehandR 1184\n"
          ]
        },
        {
          "name": "stderr",
          "output_type": "stream",
          "text": [
            "100%|██████████| 1184/1184 [00:35<00:00, 32.95it/s]\n",
            "100%|██████████| 16/16 [10:41<00:00, 40.08s/it]\n"
          ]
        },
        {
          "name": "stdout",
          "output_type": "stream",
          "text": [
            "Total samples: 21780\n",
            "Total correct: 13447\n",
            "Total incorrect: 8333\n",
            "Accuracy: 0.6174012855831038\n",
            "\n"
          ]
        }
      ],
      "source": [
        "# loaded_rf = joblib.load(\"model.joblib\")\n",
        "\n",
        "def getTotalAccuracy(model):\n",
        "    with open('./data/data.json', 'r') as file:\n",
        "        data = json.load(file)\n",
        "\n",
        "    correct = np.zeros((16))\n",
        "    incorrect = np.zeros((16))\n",
        "    total = np.zeros((16))\n",
        "\n",
        "    for label, arrays in (data.items()):\n",
        "        print(label, len(arrays))\n",
        "        for image in tqdm(arrays):\n",
        "            input_data = np.reshape(image, (-1, 16, 16, 1))\n",
        "            predictions = np.squeeze(model.predict(input_data, verbose=0))\n",
        "            max_idx = predictions.tolist().index(max(predictions))\n",
        "            label_out = index_dict[max_idx]\n",
        "            \n",
        "            if (label == label_out):\n",
        "                correct[index_dict[label]] += 1\n",
        "            else:\n",
        "                incorrect[index_dict[label]] += 1\n",
        "            total[index_dict[label]] += 1\n",
        "\n",
        "    print(f\"Total samples: {np.sum(total)}\\nTotal correct: {np.sum(correct)}\\nTotal incorrect: {np.sum(incorrect)}\")\n",
        "    print(f\"Accuracy: {np.sum(correct) / np.sum(total)}\\n\")\n",
        "    print(\"Number Correct by Index:\\n\", correct)\n",
        "    print(\"Number Incorrect by Index:\\n\", incorrect)\n",
        "    print(\"Accuracy by Index:\\n\", correct / total)\n",
        "\n",
        "\n",
        "getTotalAccuracy(model)\n",
        "\n",
        "\n",
        "\n",
        "# # Load the image\n",
        "# image_path = \"data_pad.jpg\"\n",
        "# image = load_img(image_path, target_size=(32, 32))  # Resize the image to match the input size of the CNN\n",
        "# image_array = img_to_array(image)  # Convert the image to a numpy array\n",
        "# expanded_image_array = tf.expand_dims(image_array, axis=0)  # Expand the dimensions to match the batch size\n",
        "\n",
        "# # Preprocess the image\n",
        "# preprocessed_image = preprocess_input(expanded_image_array)\n",
        "\n",
        "# # Load the pre-trained CNN model\n",
        "# model = model_d\n",
        "\n",
        "# # Make predictions on the image\n",
        "# predictions = model.predict(preprocessed_image)"
      ]
    },
    {
      "cell_type": "code",
      "execution_count": 7,
      "metadata": {},
      "outputs": [
        {
          "ename": "ValueError",
          "evalue": "too many values to unpack (expected 2)",
          "output_type": "error",
          "traceback": [
            "\u001b[0;31m---------------------------------------------------------------------------\u001b[0m",
            "\u001b[0;31mValueError\u001b[0m                                Traceback (most recent call last)",
            "Cell \u001b[0;32mIn[7], line 3\u001b[0m\n\u001b[1;32m      1\u001b[0m \u001b[39m# frequency ranges from A3 to C5\u001b[39;00m\n\u001b[1;32m      2\u001b[0m freqs \u001b[39m=\u001b[39m [\u001b[39m220\u001b[39m, \u001b[39m233\u001b[39m, \u001b[39m247\u001b[39m, \u001b[39m262\u001b[39m, \u001b[39m277\u001b[39m, \u001b[39m294\u001b[39m, \u001b[39m311\u001b[39m, \u001b[39m330\u001b[39m, \u001b[39m349\u001b[39m, \u001b[39m370\u001b[39m, \u001b[39m392\u001b[39m, \u001b[39m415\u001b[39m, \u001b[39m440\u001b[39m, \u001b[39m466\u001b[39m, \u001b[39m494\u001b[39m, \u001b[39m523\u001b[39m]\n\u001b[0;32m----> 3\u001b[0m freqDict \u001b[39m=\u001b[39m {key : f \u001b[39mfor\u001b[39;00m (key, f) \u001b[39min\u001b[39;00m (index_dict\u001b[39m.\u001b[39mkeys(), freqs)}\n\u001b[1;32m      5\u001b[0m \u001b[39mprint\u001b[39m(freqDict)\n",
            "Cell \u001b[0;32mIn[7], line 3\u001b[0m, in \u001b[0;36m<dictcomp>\u001b[0;34m(.0)\u001b[0m\n\u001b[1;32m      1\u001b[0m \u001b[39m# frequency ranges from A3 to C5\u001b[39;00m\n\u001b[1;32m      2\u001b[0m freqs \u001b[39m=\u001b[39m [\u001b[39m220\u001b[39m, \u001b[39m233\u001b[39m, \u001b[39m247\u001b[39m, \u001b[39m262\u001b[39m, \u001b[39m277\u001b[39m, \u001b[39m294\u001b[39m, \u001b[39m311\u001b[39m, \u001b[39m330\u001b[39m, \u001b[39m349\u001b[39m, \u001b[39m370\u001b[39m, \u001b[39m392\u001b[39m, \u001b[39m415\u001b[39m, \u001b[39m440\u001b[39m, \u001b[39m466\u001b[39m, \u001b[39m494\u001b[39m, \u001b[39m523\u001b[39m]\n\u001b[0;32m----> 3\u001b[0m freqDict \u001b[39m=\u001b[39m {key : f \u001b[39mfor\u001b[39;00m (key, f) \u001b[39min\u001b[39;00m (index_dict\u001b[39m.\u001b[39mkeys(), freqs)}\n\u001b[1;32m      5\u001b[0m \u001b[39mprint\u001b[39m(freqDict)\n",
            "\u001b[0;31mValueError\u001b[0m: too many values to unpack (expected 2)"
          ]
        }
      ],
      "source": [
        "# frequency ranges from A3 to C5\n",
        "freqs = [220, 233, 247, 262, 277, 294, 311, 330, 349, 370, 392, 415, 440, 466, 494, 523]\n",
        "freqDict = {key : f for (key, f) in (index_dict.keys(), freqs)}\n",
        "for key in index_dict.keys():\n",
        "    freqDict\n",
        "\n",
        "print(freqDict)"
      ]
    },
    {
      "cell_type": "code",
      "execution_count": null,
      "metadata": {},
      "outputs": [],
      "source": []
    }
  ],
  "metadata": {
    "accelerator": "GPU",
    "colab": {
      "gpuType": "A100",
      "machine_shape": "hm",
      "provenance": []
    },
    "kernelspec": {
      "display_name": "Python 3",
      "name": "python3"
    },
    "language_info": {
      "codemirror_mode": {
        "name": "ipython",
        "version": 3
      },
      "file_extension": ".py",
      "mimetype": "text/x-python",
      "name": "python",
      "nbconvert_exporter": "python",
      "pygments_lexer": "ipython3",
      "version": "3.10.0"
    },
    "orig_nbformat": 4
  },
  "nbformat": 4,
  "nbformat_minor": 0
}
