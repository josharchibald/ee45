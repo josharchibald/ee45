{
 "cells": [
  {
   "cell_type": "code",
   "execution_count": null,
   "metadata": {},
   "outputs": [],
   "source": [
    "import serial\n",
    "import numpy as np\n",
    "from PIL import Image\n",
    "import keyboard\n",
    "import matplotlib.pyplot as plt\n",
    "import json\n",
    "import random"
   ]
  },
  {
   "cell_type": "code",
   "execution_count": null,
   "metadata": {},
   "outputs": [],
   "source": [
    "sarr = []\n",
    "for i in range(4):\n",
    "\ts = '1111000'\n",
    "\ts = s[:i] + '0' + s[i + 1:]\n",
    "\tfor j in range(8):\n",
    "\t\ts2 = str(bin(j))[2:]\n",
    "\t\ts = s[:-len(s2)] + s2\n",
    "\t\tsarr.append(s)\n",
    "print(sarr)"
   ]
  },
  {
   "cell_type": "code",
   "execution_count": null,
   "metadata": {},
   "outputs": [],
   "source": [
    "file_path = 'data.json'\n",
    "\n",
    "def save_data(dataSet):\n",
    "    label = input(\"give this data a label\")\n",
    "    # print(\"label:\", label)\n",
    "    # print(\"dataSet:\\n\", dataSet)\n",
    "    data = load_json_file()\n",
    "    append_array_to_dict_entry(data, label, dataSet)\n",
    "    save_json_file(data)\n",
    "\n",
    "def load_json_file():\n",
    "    with open(file_path, 'r') as file:\n",
    "        data = json.load(file)\n",
    "    return data\n",
    "\n",
    "def save_json_file(data):\n",
    "    with open(file_path, 'w') as file:\n",
    "        json.dump(data, file, indent=2)\n",
    "\n",
    "def append_array_to_dict_entry(data_dict, data_label, array):\n",
    "    if data_label in data_dict:\n",
    "        existing_arrays = data_dict[data_label]\n",
    "        combined_array = np.append(existing_arrays, array, axis=0)\n",
    "        data_dict[data_label] = combined_array.tolist()\n",
    "    else:\n",
    "        data_dict[data_label] = array.tolist()"
   ]
  },
  {
   "cell_type": "code",
   "execution_count": null,
   "metadata": {},
   "outputs": [],
   "source": [
    "save_json_file({})\n",
    "\n",
    "for i in range(10):\n",
    "    N = random.randint(1, 15)\n",
    "    array = np.random.rand(N, 16, 16)\n",
    "    save_data(array)\n",
    "\n",
    "data = load_json_file()\n",
    "\n",
    "for label, arrays in data.items():\n",
    "    print(f\"Data Label: {label}\")\n",
    "    array_np = np.array(arrays)\n",
    "    print(f\"Array Shape: {array_np.shape}\")"
   ]
  },
  {
   "cell_type": "code",
   "execution_count": 71,
   "metadata": {},
   "outputs": [
    {
     "name": "stdout",
     "output_type": "stream",
     "text": [
      "1184\n"
     ]
    },
    {
     "data": {
      "text/plain": [
       "<matplotlib.image.AxesImage at 0x169711f60>"
      ]
     },
     "execution_count": 71,
     "metadata": {},
     "output_type": "execute_result"
    },
    {
     "data": {
      "image/png": "[encoded data removed]",
      "text/plain": [
       "<Figure size 640x480 with 3 Axes>"
      ]
     },
     "metadata": {},
     "output_type": "display_data"
    }
   ],
   "source": [
    "data = load_json_file()\n",
    "\n",
    "lb = 'sidehandR'\n",
    "ln = len(data[lb])\n",
    "\n",
    "print(ln)\n",
    "\n",
    "fig, axs = plt.subplots(3)\n",
    "axs[0].imshow(data[lb][0])\n",
    "axs[1].imshow(data[lb][ln//2])\n",
    "axs[2].imshow(data[lb][-1])\n",
    "\n",
    "# for label, arrays in data.items():\n",
    "#     print(f\"Data Label: {label}\")\n",
    "#     l = min(5, len(arrays))\n",
    "#     fig, axs = plt.subplots(l)\n",
    "#     for i in range(l, 0):\n",
    "#         axs[i].imshow(arrays[i])\n",
    "        "
   ]
  },
  {
   "cell_type": "code",
   "execution_count": 69,
   "metadata": {},
   "outputs": [],
   "source": [
    "# Establish the serial connection\n",
    "# ser = serial.Serial('COM5', 9600) # for josh\n",
    "ser = serial.Serial('/dev/tty.usbmodem2101', 9600) # for pablo\n",
    "\n",
    "#size 256 array\n",
    "handArray =  np.arange(256, dtype=float)\n",
    "#3d data set\n",
    "dataSet = np.empty((0, 16, 16), dtype=float)\n",
    "start = False\n",
    "i = 0\n",
    "j = 0 \n",
    "\n",
    "\n",
    "command = ''\n",
    "while command != 'g':\n",
    "  command = input(\"type g to begin\")\n",
    "  ser.write(command.encode())\n",
    "\n",
    "while True:\n",
    "  \n",
    "  if keyboard.is_pressed('esc'):\n",
    "    res = input(\"type g to end\")\n",
    "    if (res == 'g'):\n",
    "      ser.write(res.encode())\n",
    "      save_data(dataSet)\n",
    "      np.save('dataSet.npy', dataSet)\n",
    "      break\n",
    "    elif (res[0] == 'f'):\n",
    "      ser.write(res.encode())\n",
    "  \n",
    "  data = ser.readline()\n",
    "  data = data.decode().strip().split() # Decode the received bytes and remove whitespace\n",
    "  selects = data[0]\n",
    "  # data = [int(data[k:k+1]) for k in range(len(data))]\n",
    "  inputData = np.float_(data[1:])*5/1024\n",
    "  if (selects == sarr[0]):\n",
    "    start = True\n",
    "  # if (start):\n",
    "  #   print(selects, inputData)\n",
    "  \n",
    "  if (start):\n",
    "    if (selects != sarr[j]):\n",
    "      print(j, selects, \"error\")\n",
    "    # print(i, selects, (inputData))\n",
    "\n",
    "    #loops through array with prper indexing\n",
    "    if i < 8:\n",
    "      for k in range(8):\n",
    "        handArray[(8*k)+i] = inputData[k]\n",
    "      i = i + 1\n",
    "      if i == 8:\n",
    "        i = 64\n",
    "\n",
    "    elif i > 8 and i < 72:\n",
    "      for k in range(8):\n",
    "        handArray[(8*k)+i] = inputData[k]\n",
    "      i = i + 1\n",
    "      if i == 72:\n",
    "        i = 128\n",
    "      \n",
    "    elif i > 72 and i < 136:\n",
    "      for k in range(8):\n",
    "        handArray[(8*k)+i] = inputData[k]\n",
    "      i = i + 1\n",
    "      if i == 136:\n",
    "        i = 192\n",
    "    \n",
    "    elif i > 135 and i < 200:\n",
    "      for k in range(8):\n",
    "        handArray[(8*k)+i] = inputData[k]\n",
    "      i = i + 1\n",
    "      if i == 200:\n",
    "        i = 0\n",
    "        array = (np.reshape(handArray, (16,16)))\n",
    "        # print(array)\n",
    "        dataSet = np.append(dataSet,[array], axis = 0)\n",
    "    \n",
    "    j = (j+1) % 32\n",
    "\n",
    "#close the connection\n",
    "ser.close()\n"
   ]
  },
  {
   "cell_type": "code",
   "execution_count": null,
   "metadata": {},
   "outputs": [],
   "source": [
    "d = np.load('dataSet.npy')\n",
    "\n",
    "image = Image.new(\"1\", (16, 16))\n",
    "# Load the pixel data from the array\n",
    "pixels = [pixel for row in d[0] for pixel in row]\n",
    "\n",
    "# Put the pixel data into the image\n",
    "image.putdata(pixels)\n",
    "\n",
    "# Save the image to a file\n",
    "image.save(\"output.png\")\n",
    "\n",
    "plt.imshow(d[0])\n",
    "plt.savefig('pltfig.png')"
   ]
  },
  {
   "cell_type": "code",
   "execution_count": null,
   "metadata": {},
   "outputs": [],
   "source": [
    "for i in range(0, len(d)):\n",
    "    print(d[i])\n",
    "    print()"
   ]
  },
  {
   "cell_type": "code",
   "execution_count": 35,
   "metadata": {},
   "outputs": [],
   "source": [
    "dataSet.shape\n",
    "save_data(dataSet)"
   ]
  },
  {
   "cell_type": "code",
   "execution_count": 74,
   "metadata": {},
   "outputs": [],
   "source": [
    "data = load_json_file()\n",
    "\n",
    "# Pad each array in the dictionary to make them 32x32\n",
    "data_pad = {}\n",
    "for key, value in data.items():\n",
    "    padded_arrays = []\n",
    "    for arr in value:\n",
    "        padded_array = np.pad(arr, ((8, 8), (8, 8)), mode='constant').tolist()\n",
    "        padded_arrays.append(padded_array)\n",
    "    data_pad[key] = padded_arrays\n",
    "\n",
    "# # Print the original and padded dictionary\n",
    "# print(\"Original Dictionary:\\n\", data)\n",
    "# print(\"\\nPadded Dictionary:\\n\", data_pad)\n",
    "\n",
    "\n",
    "with open('data_pad.json', 'w') as file:\n",
    "    json.dump(data_pad, file, indent=2)"
   ]
  }
 ],
 "metadata": {
  "kernelspec": {
   "display_name": "Python 3",
   "language": "python",
   "name": "python3"
  },
  "language_info": {
   "codemirror_mode": {
    "name": "ipython",
    "version": 3
   },
   "file_extension": ".py",
   "mimetype": "text/x-python",
   "name": "python",
   "nbconvert_exporter": "python",
   "pygments_lexer": "ipython3",
   "version": "3.10.0"
  },
  "orig_nbformat": 4
 },
 "nbformat": 4,
 "nbformat_minor": 2
}
